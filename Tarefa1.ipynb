{
 "cells": [
  {
   "cell_type": "markdown",
   "id": "65f31614",
   "metadata": {},
   "source": [
    "# Tarefa 1\n"
   ]
  },
  {
   "cell_type": "markdown",
   "id": "bd36a90a",
   "metadata": {},
   "source": [
    "# <span style=\"color:blue;\">Fórmula de Bhaskara </span>\n",
    "\n",
    "A solução para uma função de segundo grau depende das suas raízes (valores de x). Como já vimos, os coeficientes precisam ser números reais e o ângulo diferente de zero. Sendo assim, temos a seguinte fórmula de Bhaskara:\n",
    "\n",
    "\n",
    "$$x = \\frac{-b \\pm \\sqrt{b^2 - 4ac}}{2a}$$\n",
    "<div style='text-align:center'><i>Fórmula de Bhaskara</i></div>\n",
    "\n",
    "Para melhor compreensão, o cálculo é dividido em duas partes: discriminante da equação e operações para determinar as raízes.\n",
    "\n",
    "### <span style='color:gray;'>Discriminante</span>\n",
    "\n",
    "A figura dentro da raiz na fórmula de Bhaskara é nomeada de discriminante. Seu símbolo é a letra grega delta e apresenta a determinada fórmula:\n",
    "\n",
    "$$\\Delta = b^2 - 4*a*c$$\n",
    "<div style='text-align:center'><i>Fórmula do discriminante.</i></div>\n",
    "\n",
    "- Se o delta for maior que zero, a equação terá dois valores reais e distintos.\n",
    "- Se o delta for igual a zero, a equação terá somente um valor real ou dois resultados iguais.\n",
    "- Se o delta for menor que zero, a equação não possuirá valores reais.\n",
    "\n",
    "Portanto, é fundamental o valor de delta para definir as raízes de uma função do segundo grau. Substituindo o discriminante e os coeficientes, a fórmula de Bhaskara ficará dessa forma:<br>\n",
    "\n",
    "$$x = \\frac{-b \\pm \\sqrt{\\Delta}}{2*a}$$\n",
    "<div style='text-align:center'><i>Substituição na fórmula.</i></div>\n"
   ]
  }
 ],
 "metadata": {
  "kernelspec": {
   "display_name": "Python 3 (ipykernel)",
   "language": "python",
   "name": "python3"
  },
  "language_info": {
   "codemirror_mode": {
    "name": "ipython",
    "version": 3
   },
   "file_extension": ".py",
   "mimetype": "text/x-python",
   "name": "python",
   "nbconvert_exporter": "python",
   "pygments_lexer": "ipython3",
   "version": "3.9.13"
  }
 },
 "nbformat": 4,
 "nbformat_minor": 5
}
